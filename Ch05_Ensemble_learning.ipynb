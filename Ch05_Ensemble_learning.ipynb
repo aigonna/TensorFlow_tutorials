{
 "cells": [
  {
   "cell_type": "code",
   "execution_count": 1,
   "metadata": {},
   "outputs": [
    {
     "name": "stderr",
     "output_type": "stream",
     "text": [
      "c:\\deeplearning\\python3\\lib\\site-packages\\h5py\\__init__.py:36: FutureWarning: Conversion of the second argument of issubdtype from `float` to `np.floating` is deprecated. In future, it will be treated as `np.float64 == np.dtype(float).type`.\n",
      "  from ._conv import register_converters as _register_converters\n"
     ]
    }
   ],
   "source": [
    "%matplotlib inline\n",
    "import matplotlib.pyplot as plt\n",
    "import tensorflow as tf\n",
    "import numpy as np\n",
    "from sklearn.metrics import confusion_matrix\n",
    "import time\n",
    "from datetime import timedelta\n",
    "import math\n",
    "import os\n",
    "import prettytensor as pt"
   ]
  },
  {
   "cell_type": "code",
   "execution_count": 2,
   "metadata": {},
   "outputs": [
    {
     "name": "stdout",
     "output_type": "stream",
     "text": [
      "Extracting data/MNIST/train-images-idx3-ubyte.gz\n",
      "Extracting data/MNIST/train-labels-idx1-ubyte.gz\n",
      "Extracting data/MNIST/t10k-images-idx3-ubyte.gz\n",
      "Extracting data/MNIST/t10k-labels-idx1-ubyte.gz\n"
     ]
    }
   ],
   "source": [
    "from tensorflow.examples.tutorials.mnist import input_data\n",
    "data = input_data.read_data_sets('data/MNIST/', one_hot=True)"
   ]
  },
  {
   "cell_type": "code",
   "execution_count": 3,
   "metadata": {},
   "outputs": [
    {
     "name": "stdout",
     "output_type": "stream",
     "text": [
      "Size of:\n",
      "-training_set: \t\t55000\n",
      "-test_set: \t\t10000\n",
      "-validation-set: \t5000\n"
     ]
    }
   ],
   "source": [
    "print(\"Size of:\")\n",
    "print(\"-training_set: \\t\\t{}\".format(len(data.train.labels)))\n",
    "print(\"-test_set: \\t\\t{}\".format(len(data.test.labels)))\n",
    "print(\"-validation-set: \\t{}\".format(len(data.validation.labels)))"
   ]
  },
  {
   "cell_type": "code",
   "execution_count": 4,
   "metadata": {},
   "outputs": [],
   "source": [
    "#Class numbers\n",
    "data.test.cls = np.argmax(data.test.labels, axis=1)\n",
    "data.validation.cls = np.argmax(data.validation.labels, axis=1)"
   ]
  },
  {
   "cell_type": "code",
   "execution_count": 5,
   "metadata": {},
   "outputs": [],
   "source": [
    "combined_images = np.concatenate([data.train.images, data.validation.images], axis=0)\n",
    "combined_labels = np.concatenate([data.train.labels, data.validation.labels], axis=0)"
   ]
  },
  {
   "cell_type": "code",
   "execution_count": 6,
   "metadata": {},
   "outputs": [
    {
     "name": "stdout",
     "output_type": "stream",
     "text": [
      "(60000, 784) \n",
      " (60000, 10)\n"
     ]
    }
   ],
   "source": [
    "print(combined_images.shape,'\\n',combined_labels.shape)"
   ]
  },
  {
   "cell_type": "code",
   "execution_count": 7,
   "metadata": {},
   "outputs": [
    {
     "data": {
      "text/plain": [
       "60000"
      ]
     },
     "execution_count": 7,
     "metadata": {},
     "output_type": "execute_result"
    }
   ],
   "source": [
    "combined_size = len(combined_images)\n",
    "combined_size"
   ]
  },
  {
   "cell_type": "code",
   "execution_count": 8,
   "metadata": {},
   "outputs": [],
   "source": [
    "#Define the size of the training-set used for each neural network. \n",
    "train_size = int(0.8 * combined_size)"
   ]
  },
  {
   "cell_type": "code",
   "execution_count": 9,
   "metadata": {},
   "outputs": [],
   "source": [
    "validation_size = combined_size - train_size"
   ]
  },
  {
   "cell_type": "code",
   "execution_count": 10,
   "metadata": {},
   "outputs": [],
   "source": [
    "def random_training_set():\n",
    "    #Create a randomized index into the full / combined training_set.\n",
    "    idx = np.random.permutation(combined_size)\n",
    "    \n",
    "    #Split the random index into training and validation-sets.\n",
    "    idx_train = idx[0:train_size]\n",
    "    idx_validation = idx[train_size:]\n",
    "    \n",
    "    #Select the images and labels for the new training-set.\n",
    "    x_train = combined_images[idx_train, :]\n",
    "    y_train = combined_labels[idx_train, :]\n",
    "    \n",
    "    #Select the images and labels for the new validation-set.\n",
    "    x_validation = combined_images[idx_validation, :]\n",
    "    y_validation = combined_labels[idx_validation, :]\n",
    "    \n",
    "    #Return the new training and validation sets.\n",
    "    return x_train, y_train, x_validation, y_validation"
   ]
  },
  {
   "cell_type": "code",
   "execution_count": 11,
   "metadata": {},
   "outputs": [],
   "source": [
    "#Data dimensions\n",
    "img_size = 28\n",
    "img_size_flat = img_size * img_size\n",
    "img_shape = (img_size, img_size)\n",
    "num_channels = 1\n",
    "num_classes = 10"
   ]
  },
  {
   "cell_type": "code",
   "execution_count": 12,
   "metadata": {},
   "outputs": [],
   "source": [
    "def plot_images(images, cls_true, ensemble_cls_pred=None, best_cls_pred=None):\n",
    "    assert len(images) == len(cls_true)\n",
    "    \n",
    "    # Create figure with 3x3 sub-plots.\n",
    "    fig, axes = plt.subplots(3, 3)\n",
    "\n",
    "    # Adjust vertical spacing if we need to print ensemble and best-net.\n",
    "    if ensemble_cls_pred is None:\n",
    "        hspace = 0.3\n",
    "    else:\n",
    "        hspace = 1.0\n",
    "    fig.subplots_adjust(hspace=hspace, wspace=0.3)\n",
    "\n",
    "    # For each of the sub-plots.\n",
    "    for i, ax in enumerate(axes.flat):\n",
    "\n",
    "        # There may not be enough images for all sub-plots.\n",
    "        if i < len(images):\n",
    "            # Plot image.\n",
    "            ax.imshow(images[i].reshape(img_shape), cmap='binary')\n",
    "\n",
    "            # Show true and predicted classes.\n",
    "            if ensemble_cls_pred is None:\n",
    "                xlabel = \"True: {0}\".format(cls_true[i])\n",
    "            else:\n",
    "                msg = \"True: {0}\\nEnsemble: {1}\\nBest Net: {2}\"\n",
    "                xlabel = msg.format(cls_true[i],\n",
    "                                    ensemble_cls_pred[i],\n",
    "                                    best_cls_pred[i])\n",
    "\n",
    "            # Show the classes as the label on the x-axis.\n",
    "            ax.set_xlabel(xlabel)\n",
    "        \n",
    "        # Remove ticks from the plot.\n",
    "        ax.set_xticks([])\n",
    "        ax.set_yticks([])\n",
    "    \n",
    "    # Ensure the plot is shown correctly with multiple plots\n",
    "    # in a single Notebook cell.\n",
    "    plt.show()"
   ]
  },
  {
   "cell_type": "code",
   "execution_count": 13,
   "metadata": {},
   "outputs": [
    {
     "data": {
      "image/png": "[encoded data removed]",
      "text/plain": [
       "<matplotlib.figure.Figure at 0x2165bad0d30>"
      ]
     },
     "metadata": {},
     "output_type": "display_data"
    }
   ],
   "source": [
    "# Get the first images from the test-set.\n",
    "images = data.test.images[0:9]\n",
    "\n",
    "# Get the true classes for those images.\n",
    "cls_true = data.test.cls[0:9]\n",
    "\n",
    "# Plot the images and labels using our helper-function above.\n",
    "plot_images(images=images, cls_true=cls_true)"
   ]
  },
  {
   "cell_type": "code",
   "execution_count": 14,
   "metadata": {},
   "outputs": [],
   "source": [
    "x = tf.placeholder(tf.float32, shape=[None, img_size_flat], name='x')\n",
    "x_image = tf.reshape(x, [-1, img_size, img_size, num_channels])\n",
    "\n",
    "y_true = tf.placeholder(tf.float32, shape=[None, 10], name='y_true')\n",
    "y_true_cls = tf.argmax(y_true, axis=1)"
   ]
  },
  {
   "cell_type": "code",
   "execution_count": 15,
   "metadata": {},
   "outputs": [],
   "source": [
    "x_pretty = pt.wrap(x_image)"
   ]
  },
  {
   "cell_type": "code",
   "execution_count": 16,
   "metadata": {},
   "outputs": [
    {
     "name": "stdout",
     "output_type": "stream",
     "text": [
      "WARNING:tensorflow:From c:\\deeplearning\\python3\\lib\\site-packages\\tensorflow\\contrib\\nn\\python\\ops\\cross_entropy.py:68: softmax_cross_entropy_with_logits (from tensorflow.python.ops.nn_ops) is deprecated and will be removed in a future version.\n",
      "Instructions for updating:\n",
      "\n",
      "Future major versions of TensorFlow will allow gradients to flow\n",
      "into the labels input on backprop by default.\n",
      "\n",
      "See tf.nn.softmax_cross_entropy_with_logits_v2.\n",
      "\n"
     ]
    }
   ],
   "source": [
    "with pt.defaults_scope(activation_fn=tf.nn.relu):\n",
    "    y_pred, loss = x_pretty.\\\n",
    "        conv2d(kernel=5, depth=16, name='layer_conv1').\\\n",
    "        max_pool(kernel=2, stride=2).\\\n",
    "        conv2d(kernel=5, depth=36, name='layer_conv2').\\\n",
    "        max_pool(kernel=2, stride=2).\\\n",
    "        flatten().\\\n",
    "        fully_connected(size=128, name='layer_fc1').\\\n",
    "        softmax_classifier(num_classes=num_classes, labels=y_true)"
   ]
  },
  {
   "cell_type": "code",
   "execution_count": 17,
   "metadata": {},
   "outputs": [],
   "source": [
    "optimizer = tf.train.AdamOptimizer(learning_rate=1e-4).minimize(loss)"
   ]
  },
  {
   "cell_type": "code",
   "execution_count": 18,
   "metadata": {},
   "outputs": [],
   "source": [
    "#Performance Measures"
   ]
  },
  {
   "cell_type": "code",
   "execution_count": 19,
   "metadata": {},
   "outputs": [],
   "source": [
    "y_pred_cls = tf.argmax(y_pred, axis=1)"
   ]
  },
  {
   "cell_type": "code",
   "execution_count": 20,
   "metadata": {},
   "outputs": [],
   "source": [
    "correct_prediction = tf.equal(y_pred_cls, y_true_cls)"
   ]
  },
  {
   "cell_type": "code",
   "execution_count": 21,
   "metadata": {},
   "outputs": [],
   "source": [
    "accuracy = tf.reduce_mean(tf.cast(correct_prediction, tf.float32))"
   ]
  },
  {
   "cell_type": "code",
   "execution_count": 22,
   "metadata": {},
   "outputs": [],
   "source": [
    "#Saver of the variables of the neural network.\n",
    "saver = tf.train.Saver(max_to_keep=100)"
   ]
  },
  {
   "cell_type": "code",
   "execution_count": 23,
   "metadata": {},
   "outputs": [],
   "source": [
    "saver_dir = 'checkpoints/ch05/'"
   ]
  },
  {
   "cell_type": "code",
   "execution_count": 24,
   "metadata": {},
   "outputs": [],
   "source": [
    "if not os.path.exists(saver_dir):\n",
    "    os.makedirs(saver_dir)"
   ]
  },
  {
   "cell_type": "code",
   "execution_count": 25,
   "metadata": {},
   "outputs": [],
   "source": [
    "def get_save_path(net_number):\n",
    "    return saver_dir + 'network' + str(net_number)"
   ]
  },
  {
   "cell_type": "code",
   "execution_count": 26,
   "metadata": {},
   "outputs": [],
   "source": [
    "session = tf.Session()"
   ]
  },
  {
   "cell_type": "code",
   "execution_count": 27,
   "metadata": {},
   "outputs": [],
   "source": [
    "def init_variables():\n",
    "    session.run(tf.initialize_all_variables())"
   ]
  },
  {
   "cell_type": "code",
   "execution_count": 28,
   "metadata": {},
   "outputs": [],
   "source": [
    "train_batch_size = 64"
   ]
  },
  {
   "cell_type": "code",
   "execution_count": 29,
   "metadata": {},
   "outputs": [],
   "source": [
    "def random_batch(x_train, y_train):\n",
    "    \n",
    "    #Total number of images in the train-set.\n",
    "    num_images = len(x_train)\n",
    "    \n",
    "    #Create a random index into the training-set.\n",
    "    idx = np.random.choice(num_images, size=train_batch_size, replace=False)\n",
    "    \n",
    "    #Use the random index to select random images and labels.\n",
    "    x_batch = x_train[idx, :]\n",
    "    y_batch = y_train[idx, :]\n",
    "    \n",
    "    #Return the batch.\n",
    "    return x_batch, y_batch"
   ]
  },
  {
   "cell_type": "code",
   "execution_count": 30,
   "metadata": {},
   "outputs": [],
   "source": [
    "#Helper-function to perform optimization iterations.\n",
    "def optimize(num_iterations, x_train, y_train):\n",
    "    \n",
    "    #Start-time used for printing time-usage below.\n",
    "    start_time = time.time()\n",
    "    \n",
    "    for i in range(num_iterations):\n",
    "        #Get a batch of training example.\n",
    "        #x_batch now holds a batch of images and\n",
    "        #y_true_batch are the true labels for those images.\n",
    "        x_batch, y_true_batch = random_batch(x_train, y_train)\n",
    "        \n",
    "        \n",
    "        #Put the batch into a dict with the proper names\n",
    "        #for placeholder variables in the Tensorflow graph.\n",
    "        feed_dict_train = {x:x_batch, y_true:y_true_batch}\n",
    "        \n",
    "        #Run the optimizer using this batch of training data.\n",
    "        #Tensorflow assigns the variables in feed_dict_train\n",
    "        #to the placeholder variables and then runs the optimizer.\n",
    "        session.run(optimizer, feed_dict=feed_dict_train)\n",
    "        \n",
    "        #Print status every 100 itersations and after last iterations.\n",
    "        if i % 100 == 0:\n",
    "            \n",
    "            #Calculate the accuracy on the training-batch.\n",
    "            acc = session.run(accuracy, feed_dict=feed_dict_train)\n",
    "            \n",
    "            #Status-message for printing.\n",
    "            msg = \"Optimazation Iteration:{0:>6}, Training Batch Accuracy:{1:>6.1%}\"\n",
    "            \n",
    "            print(msg.format(i + 1, acc))\n",
    "    #ENdtime time\n",
    "    end_time = time.time()\n",
    "    \n",
    "    #Difference between start and end-times.\n",
    "    time_dif = end_time - start_time\n",
    "    \n",
    "    #Print the time-usage.\n",
    "    print(\"Time usage: \" + str(timedelta(seconds=int(round(time_dif)))))"
   ]
  },
  {
   "cell_type": "code",
   "execution_count": 31,
   "metadata": {},
   "outputs": [],
   "source": [
    "#Create ensemble of neural networks"
   ]
  },
  {
   "cell_type": "code",
   "execution_count": 32,
   "metadata": {},
   "outputs": [],
   "source": [
    "num_networks = 5\n",
    "\n",
    "num_iterations = 10000"
   ]
  },
  {
   "cell_type": "code",
   "execution_count": 33,
   "metadata": {},
   "outputs": [
    {
     "name": "stdout",
     "output_type": "stream",
     "text": [
      "Neural network: 0\n",
      "Optimazation Iteration:     1, Training Batch Accuracy:  4.7%\n",
      "Optimazation Iteration:   101, Training Batch Accuracy: 90.6%\n",
      "Optimazation Iteration:   201, Training Batch Accuracy: 92.2%\n",
      "Optimazation Iteration:   301, Training Batch Accuracy: 92.2%\n",
      "Optimazation Iteration:   401, Training Batch Accuracy: 89.1%\n",
      "Optimazation Iteration:   501, Training Batch Accuracy: 92.2%\n",
      "Optimazation Iteration:   601, Training Batch Accuracy: 95.3%\n",
      "Optimazation Iteration:   701, Training Batch Accuracy: 96.9%\n",
      "Optimazation Iteration:   801, Training Batch Accuracy: 95.3%\n",
      "Optimazation Iteration:   901, Training Batch Accuracy: 95.3%\n",
      "Optimazation Iteration:  1001, Training Batch Accuracy: 96.9%\n",
      "Optimazation Iteration:  1101, Training Batch Accuracy: 95.3%\n",
      "Optimazation Iteration:  1201, Training Batch Accuracy: 95.3%\n",
      "Optimazation Iteration:  1301, Training Batch Accuracy:100.0%\n",
      "Optimazation Iteration:  1401, Training Batch Accuracy: 95.3%\n",
      "Optimazation Iteration:  1501, Training Batch Accuracy: 95.3%\n",
      "Optimazation Iteration:  1601, Training Batch Accuracy: 98.4%\n",
      "Optimazation Iteration:  1701, Training Batch Accuracy: 98.4%\n",
      "Optimazation Iteration:  1801, Training Batch Accuracy: 98.4%\n",
      "Optimazation Iteration:  1901, Training Batch Accuracy:100.0%\n",
      "Optimazation Iteration:  2001, Training Batch Accuracy: 98.4%\n",
      "Optimazation Iteration:  2101, Training Batch Accuracy:100.0%\n",
      "Optimazation Iteration:  2201, Training Batch Accuracy:100.0%\n",
      "Optimazation Iteration:  2301, Training Batch Accuracy:100.0%\n",
      "Optimazation Iteration:  2401, Training Batch Accuracy: 96.9%\n",
      "Optimazation Iteration:  2501, Training Batch Accuracy: 98.4%\n",
      "Optimazation Iteration:  2601, Training Batch Accuracy: 96.9%\n",
      "Optimazation Iteration:  2701, Training Batch Accuracy: 96.9%\n",
      "Optimazation Iteration:  2801, Training Batch Accuracy: 98.4%\n",
      "Optimazation Iteration:  2901, Training Batch Accuracy:100.0%\n",
      "Optimazation Iteration:  3001, Training Batch Accuracy: 98.4%\n",
      "Optimazation Iteration:  3101, Training Batch Accuracy: 98.4%\n",
      "Optimazation Iteration:  3201, Training Batch Accuracy: 98.4%\n",
      "Optimazation Iteration:  3301, Training Batch Accuracy:100.0%\n",
      "Optimazation Iteration:  3401, Training Batch Accuracy: 98.4%\n",
      "Optimazation Iteration:  3501, Training Batch Accuracy:100.0%\n",
      "Optimazation Iteration:  3601, Training Batch Accuracy:100.0%\n",
      "Optimazation Iteration:  3701, Training Batch Accuracy:100.0%\n",
      "Optimazation Iteration:  3801, Training Batch Accuracy: 98.4%\n",
      "Optimazation Iteration:  3901, Training Batch Accuracy:100.0%\n",
      "Optimazation Iteration:  4001, Training Batch Accuracy: 98.4%\n",
      "Optimazation Iteration:  4101, Training Batch Accuracy: 98.4%\n",
      "Optimazation Iteration:  4201, Training Batch Accuracy: 98.4%\n",
      "Optimazation Iteration:  4301, Training Batch Accuracy: 98.4%\n",
      "Optimazation Iteration:  4401, Training Batch Accuracy: 98.4%\n",
      "Optimazation Iteration:  4501, Training Batch Accuracy:100.0%\n",
      "Optimazation Iteration:  4601, Training Batch Accuracy: 96.9%\n",
      "Optimazation Iteration:  4701, Training Batch Accuracy: 98.4%\n",
      "Optimazation Iteration:  4801, Training Batch Accuracy:100.0%\n",
      "Optimazation Iteration:  4901, Training Batch Accuracy:100.0%\n",
      "Optimazation Iteration:  5001, Training Batch Accuracy: 96.9%\n",
      "Optimazation Iteration:  5101, Training Batch Accuracy:100.0%\n",
      "Optimazation Iteration:  5201, Training Batch Accuracy:100.0%\n",
      "Optimazation Iteration:  5301, Training Batch Accuracy: 96.9%\n",
      "Optimazation Iteration:  5401, Training Batch Accuracy:100.0%\n",
      "Optimazation Iteration:  5501, Training Batch Accuracy: 95.3%\n",
      "Optimazation Iteration:  5601, Training Batch Accuracy:100.0%\n",
      "Optimazation Iteration:  5701, Training Batch Accuracy:100.0%\n",
      "Optimazation Iteration:  5801, Training Batch Accuracy:100.0%\n",
      "Optimazation Iteration:  5901, Training Batch Accuracy:100.0%\n",
      "Optimazation Iteration:  6001, Training Batch Accuracy:100.0%\n",
      "Optimazation Iteration:  6101, Training Batch Accuracy: 98.4%\n",
      "Optimazation Iteration:  6201, Training Batch Accuracy:100.0%\n",
      "Optimazation Iteration:  6301, Training Batch Accuracy: 98.4%\n",
      "Optimazation Iteration:  6401, Training Batch Accuracy:100.0%\n",
      "Optimazation Iteration:  6501, Training Batch Accuracy: 98.4%\n",
      "Optimazation Iteration:  6601, Training Batch Accuracy:100.0%\n",
      "Optimazation Iteration:  6701, Training Batch Accuracy: 98.4%\n",
      "Optimazation Iteration:  6801, Training Batch Accuracy: 98.4%\n",
      "Optimazation Iteration:  6901, Training Batch Accuracy:100.0%\n",
      "Optimazation Iteration:  7001, Training Batch Accuracy: 98.4%\n",
      "Optimazation Iteration:  7101, Training Batch Accuracy: 98.4%\n",
      "Optimazation Iteration:  7201, Training Batch Accuracy:100.0%\n",
      "Optimazation Iteration:  7301, Training Batch Accuracy: 95.3%\n",
      "Optimazation Iteration:  7401, Training Batch Accuracy: 98.4%\n",
      "Optimazation Iteration:  7501, Training Batch Accuracy:100.0%\n",
      "Optimazation Iteration:  7601, Training Batch Accuracy: 98.4%\n",
      "Optimazation Iteration:  7701, Training Batch Accuracy: 98.4%\n",
      "Optimazation Iteration:  7801, Training Batch Accuracy:100.0%\n",
      "Optimazation Iteration:  7901, Training Batch Accuracy:100.0%\n",
      "Optimazation Iteration:  8001, Training Batch Accuracy: 98.4%\n",
      "Optimazation Iteration:  8101, Training Batch Accuracy:100.0%\n",
      "Optimazation Iteration:  8201, Training Batch Accuracy:100.0%\n",
      "Optimazation Iteration:  8301, Training Batch Accuracy:100.0%\n",
      "Optimazation Iteration:  8401, Training Batch Accuracy: 98.4%\n",
      "Optimazation Iteration:  8501, Training Batch Accuracy: 98.4%\n",
      "Optimazation Iteration:  8601, Training Batch Accuracy:100.0%\n",
      "Optimazation Iteration:  8701, Training Batch Accuracy:100.0%\n",
      "Optimazation Iteration:  8801, Training Batch Accuracy:100.0%\n",
      "Optimazation Iteration:  8901, Training Batch Accuracy:100.0%\n",
      "Optimazation Iteration:  9001, Training Batch Accuracy:100.0%\n",
      "Optimazation Iteration:  9101, Training Batch Accuracy:100.0%\n",
      "Optimazation Iteration:  9201, Training Batch Accuracy:100.0%\n",
      "Optimazation Iteration:  9301, Training Batch Accuracy:100.0%\n",
      "Optimazation Iteration:  9401, Training Batch Accuracy:100.0%\n",
      "Optimazation Iteration:  9501, Training Batch Accuracy:100.0%\n",
      "Optimazation Iteration:  9601, Training Batch Accuracy:100.0%\n",
      "Optimazation Iteration:  9701, Training Batch Accuracy:100.0%\n",
      "Optimazation Iteration:  9801, Training Batch Accuracy:100.0%\n",
      "Optimazation Iteration:  9901, Training Batch Accuracy:100.0%\n",
      "Time usage: 0:01:27\n",
      "\n",
      "Neural network: 1\n",
      "Optimazation Iteration:     1, Training Batch Accuracy: 14.1%\n",
      "Optimazation Iteration:   101, Training Batch Accuracy: 84.4%\n",
      "Optimazation Iteration:   201, Training Batch Accuracy: 95.3%\n",
      "Optimazation Iteration:   301, Training Batch Accuracy: 98.4%\n",
      "Optimazation Iteration:   401, Training Batch Accuracy:100.0%\n",
      "Optimazation Iteration:   501, Training Batch Accuracy: 90.6%\n",
      "Optimazation Iteration:   601, Training Batch Accuracy: 93.8%\n",
      "Optimazation Iteration:   701, Training Batch Accuracy: 96.9%\n",
      "Optimazation Iteration:   801, Training Batch Accuracy: 98.4%\n",
      "Optimazation Iteration:   901, Training Batch Accuracy: 93.8%\n",
      "Optimazation Iteration:  1001, Training Batch Accuracy:100.0%\n",
      "Optimazation Iteration:  1101, Training Batch Accuracy: 96.9%\n",
      "Optimazation Iteration:  1201, Training Batch Accuracy: 98.4%\n",
      "Optimazation Iteration:  1301, Training Batch Accuracy:100.0%\n",
      "Optimazation Iteration:  1401, Training Batch Accuracy: 96.9%\n",
      "Optimazation Iteration:  1501, Training Batch Accuracy: 98.4%\n",
      "Optimazation Iteration:  1601, Training Batch Accuracy: 98.4%\n",
      "Optimazation Iteration:  1701, Training Batch Accuracy: 98.4%\n",
      "Optimazation Iteration:  1801, Training Batch Accuracy: 98.4%\n",
      "Optimazation Iteration:  1901, Training Batch Accuracy: 98.4%\n",
      "Optimazation Iteration:  2001, Training Batch Accuracy: 98.4%\n",
      "Optimazation Iteration:  2101, Training Batch Accuracy:100.0%\n",
      "Optimazation Iteration:  2201, Training Batch Accuracy: 96.9%\n",
      "Optimazation Iteration:  2301, Training Batch Accuracy:100.0%\n",
      "Optimazation Iteration:  2401, Training Batch Accuracy: 98.4%\n",
      "Optimazation Iteration:  2501, Training Batch Accuracy: 96.9%\n",
      "Optimazation Iteration:  2601, Training Batch Accuracy: 98.4%\n",
      "Optimazation Iteration:  2701, Training Batch Accuracy: 98.4%\n",
      "Optimazation Iteration:  2801, Training Batch Accuracy: 98.4%\n",
      "Optimazation Iteration:  2901, Training Batch Accuracy: 96.9%\n",
      "Optimazation Iteration:  3001, Training Batch Accuracy: 92.2%\n",
      "Optimazation Iteration:  3101, Training Batch Accuracy: 96.9%\n"
     ]
    },
    {
     "name": "stdout",
     "output_type": "stream",
     "text": [
      "Optimazation Iteration:  3201, Training Batch Accuracy:100.0%\n",
      "Optimazation Iteration:  3301, Training Batch Accuracy: 98.4%\n",
      "Optimazation Iteration:  3401, Training Batch Accuracy: 98.4%\n",
      "Optimazation Iteration:  3501, Training Batch Accuracy: 96.9%\n",
      "Optimazation Iteration:  3601, Training Batch Accuracy: 96.9%\n",
      "Optimazation Iteration:  3701, Training Batch Accuracy:100.0%\n",
      "Optimazation Iteration:  3801, Training Batch Accuracy:100.0%\n",
      "Optimazation Iteration:  3901, Training Batch Accuracy: 95.3%\n",
      "Optimazation Iteration:  4001, Training Batch Accuracy: 98.4%\n",
      "Optimazation Iteration:  4101, Training Batch Accuracy: 98.4%\n",
      "Optimazation Iteration:  4201, Training Batch Accuracy:100.0%\n",
      "Optimazation Iteration:  4301, Training Batch Accuracy:100.0%\n",
      "Optimazation Iteration:  4401, Training Batch Accuracy: 98.4%\n",
      "Optimazation Iteration:  4501, Training Batch Accuracy:100.0%\n",
      "Optimazation Iteration:  4601, Training Batch Accuracy:100.0%\n",
      "Optimazation Iteration:  4701, Training Batch Accuracy:100.0%\n",
      "Optimazation Iteration:  4801, Training Batch Accuracy:100.0%\n",
      "Optimazation Iteration:  4901, Training Batch Accuracy: 96.9%\n",
      "Optimazation Iteration:  5001, Training Batch Accuracy:100.0%\n",
      "Optimazation Iteration:  5101, Training Batch Accuracy: 96.9%\n",
      "Optimazation Iteration:  5201, Training Batch Accuracy:100.0%\n",
      "Optimazation Iteration:  5301, Training Batch Accuracy: 96.9%\n",
      "Optimazation Iteration:  5401, Training Batch Accuracy:100.0%\n",
      "Optimazation Iteration:  5501, Training Batch Accuracy:100.0%\n",
      "Optimazation Iteration:  5601, Training Batch Accuracy: 96.9%\n",
      "Optimazation Iteration:  5701, Training Batch Accuracy: 95.3%\n",
      "Optimazation Iteration:  5801, Training Batch Accuracy:100.0%\n",
      "Optimazation Iteration:  5901, Training Batch Accuracy:100.0%\n",
      "Optimazation Iteration:  6001, Training Batch Accuracy:100.0%\n",
      "Optimazation Iteration:  6101, Training Batch Accuracy:100.0%\n",
      "Optimazation Iteration:  6201, Training Batch Accuracy: 98.4%\n",
      "Optimazation Iteration:  6301, Training Batch Accuracy:100.0%\n",
      "Optimazation Iteration:  6401, Training Batch Accuracy: 98.4%\n",
      "Optimazation Iteration:  6501, Training Batch Accuracy: 98.4%\n",
      "Optimazation Iteration:  6601, Training Batch Accuracy:100.0%\n",
      "Optimazation Iteration:  6701, Training Batch Accuracy: 98.4%\n",
      "Optimazation Iteration:  6801, Training Batch Accuracy:100.0%\n",
      "Optimazation Iteration:  6901, Training Batch Accuracy: 98.4%\n",
      "Optimazation Iteration:  7001, Training Batch Accuracy: 98.4%\n",
      "Optimazation Iteration:  7101, Training Batch Accuracy: 98.4%\n",
      "Optimazation Iteration:  7201, Training Batch Accuracy:100.0%\n",
      "Optimazation Iteration:  7301, Training Batch Accuracy:100.0%\n",
      "Optimazation Iteration:  7401, Training Batch Accuracy:100.0%\n",
      "Optimazation Iteration:  7501, Training Batch Accuracy: 96.9%\n",
      "Optimazation Iteration:  7601, Training Batch Accuracy:100.0%\n",
      "Optimazation Iteration:  7701, Training Batch Accuracy: 98.4%\n",
      "Optimazation Iteration:  7801, Training Batch Accuracy:100.0%\n",
      "Optimazation Iteration:  7901, Training Batch Accuracy:100.0%\n",
      "Optimazation Iteration:  8001, Training Batch Accuracy:100.0%\n",
      "Optimazation Iteration:  8101, Training Batch Accuracy: 92.2%\n",
      "Optimazation Iteration:  8201, Training Batch Accuracy:100.0%\n",
      "Optimazation Iteration:  8301, Training Batch Accuracy:100.0%\n",
      "Optimazation Iteration:  8401, Training Batch Accuracy: 98.4%\n",
      "Optimazation Iteration:  8501, Training Batch Accuracy: 96.9%\n",
      "Optimazation Iteration:  8601, Training Batch Accuracy:100.0%\n",
      "Optimazation Iteration:  8701, Training Batch Accuracy:100.0%\n",
      "Optimazation Iteration:  8801, Training Batch Accuracy: 98.4%\n",
      "Optimazation Iteration:  8901, Training Batch Accuracy:100.0%\n",
      "Optimazation Iteration:  9001, Training Batch Accuracy:100.0%\n",
      "Optimazation Iteration:  9101, Training Batch Accuracy:100.0%\n",
      "Optimazation Iteration:  9201, Training Batch Accuracy:100.0%\n",
      "Optimazation Iteration:  9301, Training Batch Accuracy: 98.4%\n",
      "Optimazation Iteration:  9401, Training Batch Accuracy:100.0%\n",
      "Optimazation Iteration:  9501, Training Batch Accuracy:100.0%\n",
      "Optimazation Iteration:  9601, Training Batch Accuracy:100.0%\n",
      "Optimazation Iteration:  9701, Training Batch Accuracy:100.0%\n",
      "Optimazation Iteration:  9801, Training Batch Accuracy:100.0%\n",
      "Optimazation Iteration:  9901, Training Batch Accuracy:100.0%\n",
      "Time usage: 0:01:26\n",
      "\n",
      "Neural network: 2\n",
      "Optimazation Iteration:     1, Training Batch Accuracy:  9.4%\n",
      "Optimazation Iteration:   101, Training Batch Accuracy: 76.6%\n",
      "Optimazation Iteration:   201, Training Batch Accuracy: 95.3%\n",
      "Optimazation Iteration:   301, Training Batch Accuracy: 87.5%\n",
      "Optimazation Iteration:   401, Training Batch Accuracy: 98.4%\n",
      "Optimazation Iteration:   501, Training Batch Accuracy: 92.2%\n",
      "Optimazation Iteration:   601, Training Batch Accuracy: 96.9%\n",
      "Optimazation Iteration:   701, Training Batch Accuracy: 95.3%\n",
      "Optimazation Iteration:   801, Training Batch Accuracy: 98.4%\n",
      "Optimazation Iteration:   901, Training Batch Accuracy: 96.9%\n",
      "Optimazation Iteration:  1001, Training Batch Accuracy: 93.8%\n",
      "Optimazation Iteration:  1101, Training Batch Accuracy:100.0%\n",
      "Optimazation Iteration:  1201, Training Batch Accuracy: 95.3%\n",
      "Optimazation Iteration:  1301, Training Batch Accuracy:100.0%\n",
      "Optimazation Iteration:  1401, Training Batch Accuracy:100.0%\n",
      "Optimazation Iteration:  1501, Training Batch Accuracy: 98.4%\n",
      "Optimazation Iteration:  1601, Training Batch Accuracy: 95.3%\n",
      "Optimazation Iteration:  1701, Training Batch Accuracy:100.0%\n",
      "Optimazation Iteration:  1801, Training Batch Accuracy: 98.4%\n",
      "Optimazation Iteration:  1901, Training Batch Accuracy: 96.9%\n",
      "Optimazation Iteration:  2001, Training Batch Accuracy: 98.4%\n",
      "Optimazation Iteration:  2101, Training Batch Accuracy: 98.4%\n",
      "Optimazation Iteration:  2201, Training Batch Accuracy: 98.4%\n",
      "Optimazation Iteration:  2301, Training Batch Accuracy:100.0%\n",
      "Optimazation Iteration:  2401, Training Batch Accuracy:100.0%\n",
      "Optimazation Iteration:  2501, Training Batch Accuracy:100.0%\n",
      "Optimazation Iteration:  2601, Training Batch Accuracy:100.0%\n",
      "Optimazation Iteration:  2701, Training Batch Accuracy: 98.4%\n",
      "Optimazation Iteration:  2801, Training Batch Accuracy: 93.8%\n",
      "Optimazation Iteration:  2901, Training Batch Accuracy: 98.4%\n",
      "Optimazation Iteration:  3001, Training Batch Accuracy: 95.3%\n",
      "Optimazation Iteration:  3101, Training Batch Accuracy:100.0%\n",
      "Optimazation Iteration:  3201, Training Batch Accuracy: 96.9%\n",
      "Optimazation Iteration:  3301, Training Batch Accuracy:100.0%\n",
      "Optimazation Iteration:  3401, Training Batch Accuracy: 98.4%\n",
      "Optimazation Iteration:  3501, Training Batch Accuracy:100.0%\n",
      "Optimazation Iteration:  3601, Training Batch Accuracy: 98.4%\n",
      "Optimazation Iteration:  3701, Training Batch Accuracy:100.0%\n",
      "Optimazation Iteration:  3801, Training Batch Accuracy: 96.9%\n",
      "Optimazation Iteration:  3901, Training Batch Accuracy: 98.4%\n",
      "Optimazation Iteration:  4001, Training Batch Accuracy:100.0%\n",
      "Optimazation Iteration:  4101, Training Batch Accuracy: 98.4%\n",
      "Optimazation Iteration:  4201, Training Batch Accuracy: 98.4%\n",
      "Optimazation Iteration:  4301, Training Batch Accuracy:100.0%\n",
      "Optimazation Iteration:  4401, Training Batch Accuracy:100.0%\n",
      "Optimazation Iteration:  4501, Training Batch Accuracy: 98.4%\n",
      "Optimazation Iteration:  4601, Training Batch Accuracy: 96.9%\n",
      "Optimazation Iteration:  4701, Training Batch Accuracy: 98.4%\n",
      "Optimazation Iteration:  4801, Training Batch Accuracy:100.0%\n",
      "Optimazation Iteration:  4901, Training Batch Accuracy: 98.4%\n",
      "Optimazation Iteration:  5001, Training Batch Accuracy:100.0%\n",
      "Optimazation Iteration:  5101, Training Batch Accuracy: 96.9%\n",
      "Optimazation Iteration:  5201, Training Batch Accuracy: 98.4%\n",
      "Optimazation Iteration:  5301, Training Batch Accuracy: 98.4%\n",
      "Optimazation Iteration:  5401, Training Batch Accuracy:100.0%\n",
      "Optimazation Iteration:  5501, Training Batch Accuracy:100.0%\n",
      "Optimazation Iteration:  5601, Training Batch Accuracy:100.0%\n",
      "Optimazation Iteration:  5701, Training Batch Accuracy:100.0%\n",
      "Optimazation Iteration:  5801, Training Batch Accuracy:100.0%\n",
      "Optimazation Iteration:  5901, Training Batch Accuracy:100.0%\n",
      "Optimazation Iteration:  6001, Training Batch Accuracy:100.0%\n",
      "Optimazation Iteration:  6101, Training Batch Accuracy:100.0%\n",
      "Optimazation Iteration:  6201, Training Batch Accuracy:100.0%\n",
      "Optimazation Iteration:  6301, Training Batch Accuracy:100.0%\n"
     ]
    },
    {
     "name": "stdout",
     "output_type": "stream",
     "text": [
      "Optimazation Iteration:  6401, Training Batch Accuracy:100.0%\n",
      "Optimazation Iteration:  6501, Training Batch Accuracy:100.0%\n",
      "Optimazation Iteration:  6601, Training Batch Accuracy:100.0%\n",
      "Optimazation Iteration:  6701, Training Batch Accuracy:100.0%\n",
      "Optimazation Iteration:  6801, Training Batch Accuracy:100.0%\n",
      "Optimazation Iteration:  6901, Training Batch Accuracy: 98.4%\n",
      "Optimazation Iteration:  7001, Training Batch Accuracy: 98.4%\n",
      "Optimazation Iteration:  7101, Training Batch Accuracy:100.0%\n",
      "Optimazation Iteration:  7201, Training Batch Accuracy:100.0%\n",
      "Optimazation Iteration:  7301, Training Batch Accuracy:100.0%\n",
      "Optimazation Iteration:  7401, Training Batch Accuracy:100.0%\n",
      "Optimazation Iteration:  7501, Training Batch Accuracy:100.0%\n",
      "Optimazation Iteration:  7601, Training Batch Accuracy:100.0%\n",
      "Optimazation Iteration:  7701, Training Batch Accuracy:100.0%\n",
      "Optimazation Iteration:  7801, Training Batch Accuracy:100.0%\n",
      "Optimazation Iteration:  7901, Training Batch Accuracy:100.0%\n",
      "Optimazation Iteration:  8001, Training Batch Accuracy: 98.4%\n",
      "Optimazation Iteration:  8101, Training Batch Accuracy:100.0%\n",
      "Optimazation Iteration:  8201, Training Batch Accuracy:100.0%\n",
      "Optimazation Iteration:  8301, Training Batch Accuracy:100.0%\n",
      "Optimazation Iteration:  8401, Training Batch Accuracy:100.0%\n",
      "Optimazation Iteration:  8501, Training Batch Accuracy:100.0%\n",
      "Optimazation Iteration:  8601, Training Batch Accuracy:100.0%\n",
      "Optimazation Iteration:  8701, Training Batch Accuracy:100.0%\n",
      "Optimazation Iteration:  8801, Training Batch Accuracy:100.0%\n",
      "Optimazation Iteration:  8901, Training Batch Accuracy:100.0%\n",
      "Optimazation Iteration:  9001, Training Batch Accuracy:100.0%\n",
      "Optimazation Iteration:  9101, Training Batch Accuracy:100.0%\n",
      "Optimazation Iteration:  9201, Training Batch Accuracy:100.0%\n",
      "Optimazation Iteration:  9301, Training Batch Accuracy:100.0%\n",
      "Optimazation Iteration:  9401, Training Batch Accuracy:100.0%\n",
      "Optimazation Iteration:  9501, Training Batch Accuracy: 96.9%\n",
      "Optimazation Iteration:  9601, Training Batch Accuracy: 98.4%\n",
      "Optimazation Iteration:  9701, Training Batch Accuracy:100.0%\n",
      "Optimazation Iteration:  9801, Training Batch Accuracy:100.0%\n",
      "Optimazation Iteration:  9901, Training Batch Accuracy:100.0%\n",
      "Time usage: 0:01:31\n",
      "\n",
      "Neural network: 3\n",
      "Optimazation Iteration:     1, Training Batch Accuracy: 14.1%\n",
      "Optimazation Iteration:   101, Training Batch Accuracy: 79.7%\n",
      "Optimazation Iteration:   201, Training Batch Accuracy: 95.3%\n",
      "Optimazation Iteration:   301, Training Batch Accuracy: 89.1%\n",
      "Optimazation Iteration:   401, Training Batch Accuracy: 90.6%\n",
      "Optimazation Iteration:   501, Training Batch Accuracy: 93.8%\n",
      "Optimazation Iteration:   601, Training Batch Accuracy: 96.9%\n",
      "Optimazation Iteration:   701, Training Batch Accuracy: 95.3%\n",
      "Optimazation Iteration:   801, Training Batch Accuracy: 92.2%\n",
      "Optimazation Iteration:   901, Training Batch Accuracy: 96.9%\n",
      "Optimazation Iteration:  1001, Training Batch Accuracy: 96.9%\n",
      "Optimazation Iteration:  1101, Training Batch Accuracy: 96.9%\n",
      "Optimazation Iteration:  1201, Training Batch Accuracy: 93.8%\n",
      "Optimazation Iteration:  1301, Training Batch Accuracy:100.0%\n",
      "Optimazation Iteration:  1401, Training Batch Accuracy:100.0%\n",
      "Optimazation Iteration:  1501, Training Batch Accuracy:100.0%\n",
      "Optimazation Iteration:  1601, Training Batch Accuracy: 96.9%\n",
      "Optimazation Iteration:  1701, Training Batch Accuracy: 98.4%\n",
      "Optimazation Iteration:  1801, Training Batch Accuracy:100.0%\n",
      "Optimazation Iteration:  1901, Training Batch Accuracy: 96.9%\n",
      "Optimazation Iteration:  2001, Training Batch Accuracy: 96.9%\n",
      "Optimazation Iteration:  2101, Training Batch Accuracy: 96.9%\n",
      "Optimazation Iteration:  2201, Training Batch Accuracy: 98.4%\n",
      "Optimazation Iteration:  2301, Training Batch Accuracy: 98.4%\n",
      "Optimazation Iteration:  2401, Training Batch Accuracy: 98.4%\n",
      "Optimazation Iteration:  2501, Training Batch Accuracy: 98.4%\n",
      "Optimazation Iteration:  2601, Training Batch Accuracy: 96.9%\n",
      "Optimazation Iteration:  2701, Training Batch Accuracy: 96.9%\n",
      "Optimazation Iteration:  2801, Training Batch Accuracy:100.0%\n",
      "Optimazation Iteration:  2901, Training Batch Accuracy:100.0%\n",
      "Optimazation Iteration:  3001, Training Batch Accuracy: 98.4%\n",
      "Optimazation Iteration:  3101, Training Batch Accuracy: 96.9%\n",
      "Optimazation Iteration:  3201, Training Batch Accuracy: 96.9%\n",
      "Optimazation Iteration:  3301, Training Batch Accuracy: 96.9%\n",
      "Optimazation Iteration:  3401, Training Batch Accuracy: 98.4%\n",
      "Optimazation Iteration:  3501, Training Batch Accuracy:100.0%\n",
      "Optimazation Iteration:  3601, Training Batch Accuracy: 96.9%\n",
      "Optimazation Iteration:  3701, Training Batch Accuracy: 98.4%\n",
      "Optimazation Iteration:  3801, Training Batch Accuracy: 98.4%\n",
      "Optimazation Iteration:  3901, Training Batch Accuracy: 98.4%\n",
      "Optimazation Iteration:  4001, Training Batch Accuracy:100.0%\n",
      "Optimazation Iteration:  4101, Training Batch Accuracy:100.0%\n",
      "Optimazation Iteration:  4201, Training Batch Accuracy: 95.3%\n",
      "Optimazation Iteration:  4301, Training Batch Accuracy: 98.4%\n",
      "Optimazation Iteration:  4401, Training Batch Accuracy:100.0%\n",
      "Optimazation Iteration:  4501, Training Batch Accuracy:100.0%\n",
      "Optimazation Iteration:  4601, Training Batch Accuracy:100.0%\n",
      "Optimazation Iteration:  4701, Training Batch Accuracy: 98.4%\n",
      "Optimazation Iteration:  4801, Training Batch Accuracy: 96.9%\n",
      "Optimazation Iteration:  4901, Training Batch Accuracy:100.0%\n",
      "Optimazation Iteration:  5001, Training Batch Accuracy:100.0%\n",
      "Optimazation Iteration:  5101, Training Batch Accuracy: 98.4%\n",
      "Optimazation Iteration:  5201, Training Batch Accuracy:100.0%\n",
      "Optimazation Iteration:  5301, Training Batch Accuracy:100.0%\n",
      "Optimazation Iteration:  5401, Training Batch Accuracy:100.0%\n",
      "Optimazation Iteration:  5501, Training Batch Accuracy:100.0%\n",
      "Optimazation Iteration:  5601, Training Batch Accuracy:100.0%\n",
      "Optimazation Iteration:  5701, Training Batch Accuracy:100.0%\n",
      "Optimazation Iteration:  5801, Training Batch Accuracy: 96.9%\n",
      "Optimazation Iteration:  5901, Training Batch Accuracy: 98.4%\n",
      "Optimazation Iteration:  6001, Training Batch Accuracy:100.0%\n",
      "Optimazation Iteration:  6101, Training Batch Accuracy: 96.9%\n",
      "Optimazation Iteration:  6201, Training Batch Accuracy:100.0%\n",
      "Optimazation Iteration:  6301, Training Batch Accuracy: 98.4%\n",
      "Optimazation Iteration:  6401, Training Batch Accuracy: 96.9%\n",
      "Optimazation Iteration:  6501, Training Batch Accuracy: 98.4%\n",
      "Optimazation Iteration:  6601, Training Batch Accuracy:100.0%\n",
      "Optimazation Iteration:  6701, Training Batch Accuracy:100.0%\n",
      "Optimazation Iteration:  6801, Training Batch Accuracy: 96.9%\n",
      "Optimazation Iteration:  6901, Training Batch Accuracy: 96.9%\n",
      "Optimazation Iteration:  7001, Training Batch Accuracy:100.0%\n",
      "Optimazation Iteration:  7101, Training Batch Accuracy: 98.4%\n",
      "Optimazation Iteration:  7201, Training Batch Accuracy:100.0%\n",
      "Optimazation Iteration:  7301, Training Batch Accuracy: 98.4%\n",
      "Optimazation Iteration:  7401, Training Batch Accuracy: 98.4%\n",
      "Optimazation Iteration:  7501, Training Batch Accuracy: 98.4%\n",
      "Optimazation Iteration:  7601, Training Batch Accuracy:100.0%\n",
      "Optimazation Iteration:  7701, Training Batch Accuracy:100.0%\n",
      "Optimazation Iteration:  7801, Training Batch Accuracy: 98.4%\n",
      "Optimazation Iteration:  7901, Training Batch Accuracy:100.0%\n",
      "Optimazation Iteration:  8001, Training Batch Accuracy:100.0%\n",
      "Optimazation Iteration:  8101, Training Batch Accuracy:100.0%\n",
      "Optimazation Iteration:  8201, Training Batch Accuracy:100.0%\n",
      "Optimazation Iteration:  8301, Training Batch Accuracy: 98.4%\n",
      "Optimazation Iteration:  8401, Training Batch Accuracy:100.0%\n",
      "Optimazation Iteration:  8501, Training Batch Accuracy:100.0%\n",
      "Optimazation Iteration:  8601, Training Batch Accuracy:100.0%\n",
      "Optimazation Iteration:  8701, Training Batch Accuracy: 98.4%\n",
      "Optimazation Iteration:  8801, Training Batch Accuracy:100.0%\n",
      "Optimazation Iteration:  8901, Training Batch Accuracy:100.0%\n",
      "Optimazation Iteration:  9001, Training Batch Accuracy:100.0%\n",
      "Optimazation Iteration:  9101, Training Batch Accuracy:100.0%\n",
      "Optimazation Iteration:  9201, Training Batch Accuracy:100.0%\n",
      "Optimazation Iteration:  9301, Training Batch Accuracy: 98.4%\n",
      "Optimazation Iteration:  9401, Training Batch Accuracy:100.0%\n",
      "Optimazation Iteration:  9501, Training Batch Accuracy:100.0%\n"
     ]
    },
    {
     "name": "stdout",
     "output_type": "stream",
     "text": [
      "Optimazation Iteration:  9601, Training Batch Accuracy:100.0%\n",
      "Optimazation Iteration:  9701, Training Batch Accuracy:100.0%\n",
      "Optimazation Iteration:  9801, Training Batch Accuracy:100.0%\n",
      "Optimazation Iteration:  9901, Training Batch Accuracy:100.0%\n",
      "Time usage: 0:01:30\n",
      "\n",
      "Neural network: 4\n",
      "Optimazation Iteration:     1, Training Batch Accuracy: 14.1%\n",
      "Optimazation Iteration:   101, Training Batch Accuracy: 85.9%\n",
      "Optimazation Iteration:   201, Training Batch Accuracy: 93.8%\n",
      "Optimazation Iteration:   301, Training Batch Accuracy: 95.3%\n",
      "Optimazation Iteration:   401, Training Batch Accuracy: 96.9%\n",
      "Optimazation Iteration:   501, Training Batch Accuracy: 96.9%\n",
      "Optimazation Iteration:   601, Training Batch Accuracy: 89.1%\n",
      "Optimazation Iteration:   701, Training Batch Accuracy: 92.2%\n",
      "Optimazation Iteration:   801, Training Batch Accuracy: 96.9%\n",
      "Optimazation Iteration:   901, Training Batch Accuracy: 96.9%\n",
      "Optimazation Iteration:  1001, Training Batch Accuracy: 93.8%\n",
      "Optimazation Iteration:  1101, Training Batch Accuracy: 95.3%\n",
      "Optimazation Iteration:  1201, Training Batch Accuracy: 95.3%\n",
      "Optimazation Iteration:  1301, Training Batch Accuracy: 95.3%\n",
      "Optimazation Iteration:  1401, Training Batch Accuracy: 98.4%\n",
      "Optimazation Iteration:  1501, Training Batch Accuracy:100.0%\n",
      "Optimazation Iteration:  1601, Training Batch Accuracy:100.0%\n",
      "Optimazation Iteration:  1701, Training Batch Accuracy: 96.9%\n",
      "Optimazation Iteration:  1801, Training Batch Accuracy: 96.9%\n",
      "Optimazation Iteration:  1901, Training Batch Accuracy: 93.8%\n",
      "Optimazation Iteration:  2001, Training Batch Accuracy: 98.4%\n",
      "Optimazation Iteration:  2101, Training Batch Accuracy:100.0%\n",
      "Optimazation Iteration:  2201, Training Batch Accuracy: 96.9%\n",
      "Optimazation Iteration:  2301, Training Batch Accuracy: 96.9%\n",
      "Optimazation Iteration:  2401, Training Batch Accuracy: 98.4%\n",
      "Optimazation Iteration:  2501, Training Batch Accuracy: 98.4%\n",
      "Optimazation Iteration:  2601, Training Batch Accuracy:100.0%\n",
      "Optimazation Iteration:  2701, Training Batch Accuracy:100.0%\n",
      "Optimazation Iteration:  2801, Training Batch Accuracy:100.0%\n",
      "Optimazation Iteration:  2901, Training Batch Accuracy: 96.9%\n",
      "Optimazation Iteration:  3001, Training Batch Accuracy: 96.9%\n",
      "Optimazation Iteration:  3101, Training Batch Accuracy: 98.4%\n",
      "Optimazation Iteration:  3201, Training Batch Accuracy: 98.4%\n",
      "Optimazation Iteration:  3301, Training Batch Accuracy:100.0%\n",
      "Optimazation Iteration:  3401, Training Batch Accuracy:100.0%\n",
      "Optimazation Iteration:  3501, Training Batch Accuracy:100.0%\n",
      "Optimazation Iteration:  3601, Training Batch Accuracy:100.0%\n",
      "Optimazation Iteration:  3701, Training Batch Accuracy:100.0%\n",
      "Optimazation Iteration:  3801, Training Batch Accuracy:100.0%\n",
      "Optimazation Iteration:  3901, Training Batch Accuracy:100.0%\n",
      "Optimazation Iteration:  4001, Training Batch Accuracy: 98.4%\n",
      "Optimazation Iteration:  4101, Training Batch Accuracy: 98.4%\n",
      "Optimazation Iteration:  4201, Training Batch Accuracy:100.0%\n",
      "Optimazation Iteration:  4301, Training Batch Accuracy:100.0%\n",
      "Optimazation Iteration:  4401, Training Batch Accuracy: 96.9%\n",
      "Optimazation Iteration:  4501, Training Batch Accuracy:100.0%\n",
      "Optimazation Iteration:  4601, Training Batch Accuracy: 98.4%\n",
      "Optimazation Iteration:  4701, Training Batch Accuracy:100.0%\n",
      "Optimazation Iteration:  4801, Training Batch Accuracy:100.0%\n",
      "Optimazation Iteration:  4901, Training Batch Accuracy: 96.9%\n",
      "Optimazation Iteration:  5001, Training Batch Accuracy: 98.4%\n",
      "Optimazation Iteration:  5101, Training Batch Accuracy: 98.4%\n",
      "Optimazation Iteration:  5201, Training Batch Accuracy:100.0%\n",
      "Optimazation Iteration:  5301, Training Batch Accuracy:100.0%\n",
      "Optimazation Iteration:  5401, Training Batch Accuracy: 98.4%\n",
      "Optimazation Iteration:  5501, Training Batch Accuracy: 96.9%\n",
      "Optimazation Iteration:  5601, Training Batch Accuracy: 98.4%\n",
      "Optimazation Iteration:  5701, Training Batch Accuracy:100.0%\n",
      "Optimazation Iteration:  5801, Training Batch Accuracy:100.0%\n",
      "Optimazation Iteration:  5901, Training Batch Accuracy:100.0%\n",
      "Optimazation Iteration:  6001, Training Batch Accuracy:100.0%\n",
      "Optimazation Iteration:  6101, Training Batch Accuracy: 95.3%\n",
      "Optimazation Iteration:  6201, Training Batch Accuracy: 98.4%\n",
      "Optimazation Iteration:  6301, Training Batch Accuracy:100.0%\n",
      "Optimazation Iteration:  6401, Training Batch Accuracy:100.0%\n",
      "Optimazation Iteration:  6501, Training Batch Accuracy:100.0%\n",
      "Optimazation Iteration:  6601, Training Batch Accuracy: 98.4%\n",
      "Optimazation Iteration:  6701, Training Batch Accuracy:100.0%\n",
      "Optimazation Iteration:  6801, Training Batch Accuracy:100.0%\n",
      "Optimazation Iteration:  6901, Training Batch Accuracy:100.0%\n",
      "Optimazation Iteration:  7001, Training Batch Accuracy:100.0%\n",
      "Optimazation Iteration:  7101, Training Batch Accuracy: 98.4%\n",
      "Optimazation Iteration:  7201, Training Batch Accuracy:100.0%\n",
      "Optimazation Iteration:  7301, Training Batch Accuracy:100.0%\n",
      "Optimazation Iteration:  7401, Training Batch Accuracy: 98.4%\n",
      "Optimazation Iteration:  7501, Training Batch Accuracy: 98.4%\n",
      "Optimazation Iteration:  7601, Training Batch Accuracy:100.0%\n",
      "Optimazation Iteration:  7701, Training Batch Accuracy:100.0%\n",
      "Optimazation Iteration:  7801, Training Batch Accuracy:100.0%\n",
      "Optimazation Iteration:  7901, Training Batch Accuracy:100.0%\n",
      "Optimazation Iteration:  8001, Training Batch Accuracy: 98.4%\n",
      "Optimazation Iteration:  8101, Training Batch Accuracy: 98.4%\n",
      "Optimazation Iteration:  8201, Training Batch Accuracy:100.0%\n",
      "Optimazation Iteration:  8301, Training Batch Accuracy:100.0%\n",
      "Optimazation Iteration:  8401, Training Batch Accuracy:100.0%\n",
      "Optimazation Iteration:  8501, Training Batch Accuracy:100.0%\n",
      "Optimazation Iteration:  8601, Training Batch Accuracy:100.0%\n",
      "Optimazation Iteration:  8701, Training Batch Accuracy:100.0%\n",
      "Optimazation Iteration:  8801, Training Batch Accuracy: 98.4%\n",
      "Optimazation Iteration:  8901, Training Batch Accuracy:100.0%\n",
      "Optimazation Iteration:  9001, Training Batch Accuracy:100.0%\n",
      "Optimazation Iteration:  9101, Training Batch Accuracy:100.0%\n",
      "Optimazation Iteration:  9201, Training Batch Accuracy:100.0%\n",
      "Optimazation Iteration:  9301, Training Batch Accuracy: 98.4%\n",
      "Optimazation Iteration:  9401, Training Batch Accuracy:100.0%\n",
      "Optimazation Iteration:  9501, Training Batch Accuracy:100.0%\n",
      "Optimazation Iteration:  9601, Training Batch Accuracy:100.0%\n",
      "Optimazation Iteration:  9701, Training Batch Accuracy:100.0%\n",
      "Optimazation Iteration:  9801, Training Batch Accuracy:100.0%\n",
      "Optimazation Iteration:  9901, Training Batch Accuracy: 98.4%\n",
      "Time usage: 0:01:32\n",
      "\n"
     ]
    }
   ],
   "source": [
    "if True:\n",
    "    \n",
    "    #For each of the neural networks.\n",
    "    for i in range(num_networks):\n",
    "        print(\"Neural network: {0}\".format(i))\n",
    "        \n",
    "        #Create a random training-set.Ignore the validation-set.\n",
    "        x_train, y_train, _, _ = random_training_set()\n",
    "        \n",
    "        #Initialize the variables of the Tensorflow graph.\n",
    "        session.run(tf.global_variables_initializer())\n",
    "        \n",
    "        #Optimize the variables using this training-set.\n",
    "        optimize(num_iterations=num_iterations,\n",
    "                x_train=x_train,\n",
    "                y_train=y_train)\n",
    "        \n",
    "        #Saver the optimized variables to disk.\n",
    "        saver.save(sess=session, save_path=get_save_path(i))\n",
    "        \n",
    "        print()"
   ]
  },
  {
   "cell_type": "code",
   "execution_count": 34,
   "metadata": {},
   "outputs": [],
   "source": [
    "#Helper-functions for calculating and predicting classifications\n",
    "\n",
    "#Split the data-set in batches of this size to limit RAM usage.\n",
    "batch_size = 256\n",
    "\n",
    "def predict_labels(images):\n",
    "    \n",
    "    #Number of images.\n",
    "    num_images = len(images)\n",
    "    \n",
    "    #Allocate an array for the predicted labels which\n",
    "    #will be calualted in batches and filled into this array.\n",
    "    pred_labels = np.zeros(shape=(num_images, num_classes), dtype=np.float)\n",
    "    \n",
    "    \n",
    "    #Now calculate the predicted labels for the batches.\n",
    "    #Just iterateing through all the labels.\n",
    "    \n",
    "    #The starting index for the next batch is denoted i.\n",
    "    i = 0\n",
    "    \n",
    "    while i < num_images:\n",
    "        #The ending index for the next batch is denoted j.\n",
    "        j = min(i + batch_size, num_images)\n",
    "        \n",
    "        #Create a feed-dict with the images between index i and j.\n",
    "        feed_dict = {x:images[i:j, :]}\n",
    "        \n",
    "        #Calculate the predicted labels using Tensorflow.\n",
    "        pred_labels[i:j] = session.run(y_pred, feed_dict=feed_dict)\n",
    "        \n",
    "        #Set the start-index for the next batch to the\n",
    "        #end-index of the current batch.\n",
    "        i = j\n",
    "    return pred_labels"
   ]
  },
  {
   "cell_type": "code",
   "execution_count": 35,
   "metadata": {},
   "outputs": [],
   "source": [
    "def correct_prediction(images, labels, cls_true):\n",
    "    \n",
    "    #Calculate the predict labels.\n",
    "    pred_labels = predict_labels(images=images)\n",
    "    \n",
    "    #Calculate the predicted class-number for each image.\n",
    "    cls_pred = np.argmax(pred_labels, axis=1)\n",
    "    \n",
    "    #Create a boolean array whether each image is correctly classified.\n",
    "    correct = (cls_true == cls_pred)\n",
    "    \n",
    "    return correct"
   ]
  },
  {
   "cell_type": "code",
   "execution_count": 36,
   "metadata": {},
   "outputs": [],
   "source": [
    "def test_correct():\n",
    "    return correct_prediction(images=data.test.images,\n",
    "                             labels=data.test.labels,\n",
    "                             cls_true=data.test.cls)"
   ]
  },
  {
   "cell_type": "code",
   "execution_count": 37,
   "metadata": {},
   "outputs": [],
   "source": [
    "def validation_correct():\n",
    "    return correct_prediction(images=data.validation.images,\n",
    "                             labels=data.validation.labels,\n",
    "                             cls_true=data.validation.cls)"
   ]
  },
  {
   "cell_type": "code",
   "execution_count": 38,
   "metadata": {},
   "outputs": [],
   "source": [
    "#Helper-function for calculatiing the classification accuracy."
   ]
  },
  {
   "cell_type": "code",
   "execution_count": 39,
   "metadata": {},
   "outputs": [],
   "source": [
    "def classification_accuracy(correct):\n",
    "    \n",
    "    #When averaging a boolean array, False means 0 and True means 1.\n",
    "    #Number of True /len(correct) which is the same as the classification accuracy.\n",
    "    return correct.mean()"
   ]
  },
  {
   "cell_type": "code",
   "execution_count": 40,
   "metadata": {},
   "outputs": [],
   "source": [
    "def test_accuracy():\n",
    "    \n",
    "    #Get the array of booleans whether the classifictaions are correct for the test-set.\n",
    "    correct = test_correct()\n",
    "    \n",
    "    #Calculate the classifiction accuracy and return it.\n",
    "    return classification_accuracy(correct)"
   ]
  },
  {
   "cell_type": "code",
   "execution_count": 41,
   "metadata": {},
   "outputs": [],
   "source": [
    "def validation_accuracy():\n",
    "    \n",
    "    #Get the array of booleans whether the classifications are correct.\n",
    "    #for the validation-set.\n",
    "    correct = validation_correct()\n",
    "    \n",
    "    #Calculate the classification accuracy and return it.\n",
    "    return classification_accuracy(correct)"
   ]
  },
  {
   "cell_type": "code",
   "execution_count": 42,
   "metadata": {},
   "outputs": [],
   "source": [
    "#Results and analysis "
   ]
  },
  {
   "cell_type": "code",
   "execution_count": 43,
   "metadata": {},
   "outputs": [],
   "source": [
    "def ensemble_predictions():\n",
    "    \n",
    "    #Enpty list of predicted labels for each of the neural networks.\n",
    "    pred_labels = []\n",
    "    \n",
    "    #Classification accuracy on the test-set for each network.\n",
    "    test_accuracies = []\n",
    "    \n",
    "    #Classificiation accuracy on the validation-set for each network.\n",
    "    val_accuracies = []\n",
    "    \n",
    "    #For each neural network in the ensemble.\n",
    "    for i in range(num_networks):\n",
    "        #Reloac the variables into the tensorflow graph.\n",
    "        saver.restore(sess=session, save_path=get_save_path(i))\n",
    "        \n",
    "        #Calculate the classification accuracy on the test-set.\n",
    "        test_acc = test_accuracy()\n",
    "        \n",
    "        #Append the classification accuracy to the list.\n",
    "        test_accuracies.append(test_acc)\n",
    "        \n",
    "        #Calculate the classification accuracy on the validation-set.\n",
    "        val_acc = validation_accuracy()\n",
    "        \n",
    "        #Append the classification accuracy to the list.\n",
    "        val_accuracies.append(val_acc)\n",
    "        \n",
    "        #Print status message.\n",
    "        msg = \"Network: {0}.Accuracy on Validation-set:{1:.4f}, Test-set:{2:.4f}\"\n",
    "        \n",
    "        print(msg.format(i, val_acc, test_acc))\n",
    "        \n",
    "        #Calculate the predicted labels for the images in the test-set.\n",
    "        #This is already calculated in the test_accuracy() above but \n",
    "        #it is re-calculated here to keep the code a bit simpler.\n",
    "        pred = predict_labels(images=data.test.images)\n",
    "        \n",
    "        #Append the predicted labels to the list.\n",
    "        pred_labels.append(pred)\n",
    "    \n",
    "    return np.array(pred_labels), np.array(test_accuracies), np.array(val_accuracies)"
   ]
  },
  {
   "cell_type": "code",
   "execution_count": 44,
   "metadata": {},
   "outputs": [
    {
     "name": "stdout",
     "output_type": "stream",
     "text": [
      "INFO:tensorflow:Restoring parameters from checkpoints/ch05/network0\n",
      "Network: 0.Accuracy on Validation-set:0.9946, Test-set:0.9894\n",
      "INFO:tensorflow:Restoring parameters from checkpoints/ch05/network1\n",
      "Network: 1.Accuracy on Validation-set:0.9950, Test-set:0.9904\n",
      "INFO:tensorflow:Restoring parameters from checkpoints/ch05/network2\n",
      "Network: 2.Accuracy on Validation-set:0.9944, Test-set:0.9886\n",
      "INFO:tensorflow:Restoring parameters from checkpoints/ch05/network3\n",
      "Network: 3.Accuracy on Validation-set:0.9932, Test-set:0.9887\n",
      "INFO:tensorflow:Restoring parameters from checkpoints/ch05/network4\n",
      "Network: 4.Accuracy on Validation-set:0.9930, Test-set:0.9870\n"
     ]
    }
   ],
   "source": [
    "pred_labels, test_accuracies, val_accuracies = ensemble_predictions()"
   ]
  },
  {
   "cell_type": "code",
   "execution_count": 45,
   "metadata": {},
   "outputs": [
    {
     "name": "stdout",
     "output_type": "stream",
     "text": [
      "Mean test-set accuracy:0.9888\n",
      "Min test-set accuracy:0.9870\n",
      "Max test-set accuracy:0.9904\n"
     ]
    }
   ],
   "source": [
    "print(\"Mean test-set accuracy:{0:.4f}\".format(np.mean(test_accuracies)))\n",
    "print(\"Min test-set accuracy:{0:.4f}\".format(np.min(test_accuracies)))\n",
    "print(\"Max test-set accuracy:{0:.4f}\".format(np.max(test_accuracies)))"
   ]
  },
  {
   "cell_type": "code",
   "execution_count": 46,
   "metadata": {},
   "outputs": [
    {
     "data": {
      "text/plain": [
       "(5, 10000, 10)"
      ]
     },
     "execution_count": 46,
     "metadata": {},
     "output_type": "execute_result"
    }
   ],
   "source": [
    "pred_labels.shape"
   ]
  },
  {
   "cell_type": "code",
   "execution_count": 47,
   "metadata": {},
   "outputs": [],
   "source": [
    "#Emsemble predictions"
   ]
  },
  {
   "cell_type": "code",
   "execution_count": 48,
   "metadata": {},
   "outputs": [
    {
     "data": {
      "text/plain": [
       "(10000, 10)"
      ]
     },
     "execution_count": 48,
     "metadata": {},
     "output_type": "execute_result"
    }
   ],
   "source": [
    "ensemble_pred_labels = np.mean(pred_labels, axis=0)\n",
    "ensemble_pred_labels.shape"
   ]
  },
  {
   "cell_type": "code",
   "execution_count": 49,
   "metadata": {},
   "outputs": [
    {
     "data": {
      "text/plain": [
       "(10000,)"
      ]
     },
     "execution_count": 49,
     "metadata": {},
     "output_type": "execute_result"
    }
   ],
   "source": [
    "ensemble_cls_pred = np.argmax(ensemble_pred_labels, axis=1)\n",
    "ensemble_cls_pred.shape"
   ]
  },
  {
   "cell_type": "code",
   "execution_count": 50,
   "metadata": {},
   "outputs": [],
   "source": [
    "ensemble_correct = (ensemble_cls_pred == data.test.cls)"
   ]
  },
  {
   "cell_type": "code",
   "execution_count": 51,
   "metadata": {},
   "outputs": [],
   "source": [
    "ensemble_incorrect = np.logical_not(ensemble_correct)"
   ]
  },
  {
   "cell_type": "code",
   "execution_count": 52,
   "metadata": {},
   "outputs": [],
   "source": [
    "#Best neural network"
   ]
  },
  {
   "cell_type": "code",
   "execution_count": 53,
   "metadata": {},
   "outputs": [
    {
     "data": {
      "text/plain": [
       "array([0.9894, 0.9904, 0.9886, 0.9887, 0.987 ])"
      ]
     },
     "execution_count": 53,
     "metadata": {},
     "output_type": "execute_result"
    }
   ],
   "source": [
    "test_accuracies"
   ]
  },
  {
   "cell_type": "code",
   "execution_count": 54,
   "metadata": {},
   "outputs": [
    {
     "data": {
      "text/plain": [
       "1"
      ]
     },
     "execution_count": 54,
     "metadata": {},
     "output_type": "execute_result"
    }
   ],
   "source": [
    "best_net = np.argmax(test_accuracies)\n",
    "best_net"
   ]
  },
  {
   "cell_type": "code",
   "execution_count": 55,
   "metadata": {},
   "outputs": [
    {
     "data": {
      "text/plain": [
       "0.9904"
      ]
     },
     "execution_count": 55,
     "metadata": {},
     "output_type": "execute_result"
    }
   ],
   "source": [
    "test_accuracies[best_net]"
   ]
  },
  {
   "cell_type": "code",
   "execution_count": 56,
   "metadata": {},
   "outputs": [],
   "source": [
    "best_net_pred_labels = pred_labels[best_net, :, :]"
   ]
  },
  {
   "cell_type": "code",
   "execution_count": 57,
   "metadata": {},
   "outputs": [],
   "source": [
    "best_net_cls_pred = np.argmax(best_net_pred_labels, axis=1)"
   ]
  },
  {
   "cell_type": "code",
   "execution_count": 58,
   "metadata": {},
   "outputs": [],
   "source": [
    "best_net_correct = (best_net_cls_pred == data.test.cls)"
   ]
  },
  {
   "cell_type": "code",
   "execution_count": 59,
   "metadata": {},
   "outputs": [],
   "source": [
    "best_net_incorrect = np.logical_not(best_net_correct)"
   ]
  },
  {
   "cell_type": "code",
   "execution_count": 60,
   "metadata": {},
   "outputs": [],
   "source": [
    "#Comparison of ensemble vs the best single network."
   ]
  },
  {
   "cell_type": "code",
   "execution_count": 61,
   "metadata": {},
   "outputs": [
    {
     "data": {
      "text/plain": [
       "9917"
      ]
     },
     "execution_count": 61,
     "metadata": {},
     "output_type": "execute_result"
    }
   ],
   "source": [
    "np.sum(ensemble_correct)"
   ]
  },
  {
   "cell_type": "code",
   "execution_count": 62,
   "metadata": {},
   "outputs": [
    {
     "data": {
      "text/plain": [
       "9904"
      ]
     },
     "execution_count": 62,
     "metadata": {},
     "output_type": "execute_result"
    }
   ],
   "source": [
    "np.sum(best_net_correct)"
   ]
  },
  {
   "cell_type": "code",
   "execution_count": 63,
   "metadata": {},
   "outputs": [],
   "source": [
    "ensemble_better = np.logical_and(best_net_incorrect, ensemble_correct)"
   ]
  },
  {
   "cell_type": "code",
   "execution_count": 64,
   "metadata": {},
   "outputs": [
    {
     "data": {
      "text/plain": [
       "37"
      ]
     },
     "execution_count": 64,
     "metadata": {},
     "output_type": "execute_result"
    }
   ],
   "source": [
    "ensemble_better.sum()"
   ]
  },
  {
   "cell_type": "code",
   "execution_count": 65,
   "metadata": {},
   "outputs": [
    {
     "data": {
      "text/plain": [
       "24"
      ]
     },
     "execution_count": 65,
     "metadata": {},
     "output_type": "execute_result"
    }
   ],
   "source": [
    "best_net_better = np.logical_and(best_net_correct, ensemble_incorrect)\n",
    "best_net_better.sum()"
   ]
  },
  {
   "cell_type": "code",
   "execution_count": 66,
   "metadata": {},
   "outputs": [],
   "source": [
    "#Helper-functions for plotting and printing comparisons."
   ]
  },
  {
   "cell_type": "code",
   "execution_count": 67,
   "metadata": {},
   "outputs": [],
   "source": [
    "def plot_images_comparison(idx):\n",
    "    plot_images(images=data.test.images[idx, :],\n",
    "               cls_true=data.test.cls[idx],\n",
    "               ensemble_cls_pred=ensemble_cls_pred[idx],\n",
    "               best_cls_pred=best_net_cls_pred[idx])"
   ]
  },
  {
   "cell_type": "code",
   "execution_count": 68,
   "metadata": {},
   "outputs": [],
   "source": [
    "def print_labels(labels, idx, num=1):\n",
    "    \n",
    "    #Select the relevant labels based on idx.\n",
    "    labels = labels[idx, :]\n",
    "    \n",
    "    #Select the first num labels.\n",
    "    labels = labels[0:num, :]\n",
    "    \n",
    "    #Round numbers to 2 decimal points so they are easier to read.\n",
    "    labels_rounded = np.round(labels, 2)\n",
    "    \n",
    "    #Print the rounded labels.\n",
    "    print(labels_rounded)"
   ]
  },
  {
   "cell_type": "code",
   "execution_count": 69,
   "metadata": {},
   "outputs": [],
   "source": [
    "def print_labels_ensemble(idx, **kwargs):\n",
    "    print_labels(labels=ensemble_pred_labels, idx=idx, **kwargs)"
   ]
  },
  {
   "cell_type": "code",
   "execution_count": 70,
   "metadata": {},
   "outputs": [],
   "source": [
    "def print_labels_best_net(idx, **kwargs):\n",
    "    print_labels(labels=best_net_pred_labels, idx=idx, **kwargs)"
   ]
  },
  {
   "cell_type": "code",
   "execution_count": 71,
   "metadata": {},
   "outputs": [],
   "source": [
    "def print_labels_all_nets(idx):\n",
    "    for i in range(num_networks):\n",
    "        print_labels(labels=pred_labels[i, :, :], idx=idx, num=1)"
   ]
  },
  {
   "cell_type": "code",
   "execution_count": 72,
   "metadata": {},
   "outputs": [
    {
     "data": {
      "image/png": "[encoded data removed]",
      "text/plain": [
       "<matplotlib.figure.Figure at 0x21715c233c8>"
      ]
     },
     "metadata": {},
     "output_type": "display_data"
    }
   ],
   "source": [
    "plot_images_comparison(idx=ensemble_better)"
   ]
  },
  {
   "cell_type": "code",
   "execution_count": 74,
   "metadata": {},
   "outputs": [
    {
     "name": "stdout",
     "output_type": "stream",
     "text": [
      "[[0.   0.   0.   0.   0.58 0.   0.   0.   0.   0.41]]\n"
     ]
    }
   ],
   "source": [
    "print_labels_ensemble(idx=ensemble_better, num=1)"
   ]
  },
  {
   "cell_type": "code",
   "execution_count": 75,
   "metadata": {},
   "outputs": [
    {
     "name": "stdout",
     "output_type": "stream",
     "text": [
      "[[0.   0.   0.   0.   0.31 0.   0.   0.   0.   0.69]]\n"
     ]
    }
   ],
   "source": [
    "print_labels_best_net(idx=ensemble_better, num=1)"
   ]
  },
  {
   "cell_type": "code",
   "execution_count": 76,
   "metadata": {},
   "outputs": [
    {
     "name": "stdout",
     "output_type": "stream",
     "text": [
      "[[0.   0.   0.   0.   0.67 0.   0.   0.   0.   0.33]]\n",
      "[[0.   0.   0.   0.   0.31 0.   0.   0.   0.   0.69]]\n",
      "[[0.   0.   0.   0.   0.04 0.   0.   0.   0.   0.95]]\n",
      "[[0.   0.   0.   0.   0.91 0.   0.   0.   0.   0.09]]\n",
      "[[0. 0. 0. 0. 1. 0. 0. 0. 0. 0.]]\n"
     ]
    }
   ],
   "source": [
    "print_labels_all_nets(idx=ensemble_better)"
   ]
  },
  {
   "cell_type": "code",
   "execution_count": 77,
   "metadata": {},
   "outputs": [
    {
     "data": {
      "image/png": "[encoded data removed]",
      "text/plain": [
       "<matplotlib.figure.Figure at 0x217180d7f60>"
      ]
     },
     "metadata": {},
     "output_type": "display_data"
    }
   ],
   "source": [
    "plot_images_comparison(idx=best_net_better)"
   ]
  },
  {
   "cell_type": "code",
   "execution_count": 78,
   "metadata": {},
   "outputs": [
    {
     "name": "stdout",
     "output_type": "stream",
     "text": [
      "[[0.  0.  0.  0.5 0.  0.5 0.  0.  0.  0. ]]\n"
     ]
    }
   ],
   "source": [
    "print_labels_ensemble(idx=best_net_better, num=1)"
   ]
  },
  {
   "cell_type": "code",
   "execution_count": 79,
   "metadata": {},
   "outputs": [
    {
     "name": "stdout",
     "output_type": "stream",
     "text": [
      "[[0.   0.   0.   0.91 0.   0.09 0.   0.   0.   0.  ]]\n"
     ]
    }
   ],
   "source": [
    "print_labels_best_net(idx=best_net_better, num=1)"
   ]
  },
  {
   "cell_type": "code",
   "execution_count": 80,
   "metadata": {},
   "outputs": [
    {
     "name": "stdout",
     "output_type": "stream",
     "text": [
      "[[0.   0.   0.   0.23 0.   0.77 0.   0.   0.   0.  ]]\n",
      "[[0.   0.   0.   0.91 0.   0.09 0.   0.   0.   0.  ]]\n",
      "[[0.   0.   0.   0.87 0.   0.13 0.   0.   0.   0.  ]]\n",
      "[[0.   0.   0.   0.46 0.   0.54 0.   0.   0.   0.  ]]\n",
      "[[0.   0.   0.   0.02 0.   0.98 0.   0.   0.   0.  ]]\n"
     ]
    }
   ],
   "source": [
    "print_labels_all_nets(idx=best_net_better)"
   ]
  },
  {
   "cell_type": "code",
   "execution_count": 81,
   "metadata": {},
   "outputs": [],
   "source": [
    "session.close()"
   ]
  },
  {
   "cell_type": "code",
   "execution_count": null,
   "metadata": {},
   "outputs": [],
   "source": []
  }
 ],
 "metadata": {
  "kernelspec": {
   "display_name": "Python 3",
   "language": "python",
   "name": "python3"
  },
  "language_info": {
   "codemirror_mode": {
    "name": "ipython",
    "version": 3
   },
   "file_extension": ".py",
   "mimetype": "text/x-python",
   "name": "python",
   "nbconvert_exporter": "python",
   "pygments_lexer": "ipython3",
   "version": "3.6.3"
  }
 },
 "nbformat": 4,
 "nbformat_minor": 2
}
